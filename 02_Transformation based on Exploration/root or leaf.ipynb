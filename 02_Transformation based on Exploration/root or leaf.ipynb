{
 "cells": [
  {
   "cell_type": "markdown",
   "source": [
    "# Root or Leaf\n",
    "\n",
    "When we want to calculate metrics for each market and also each product, we have to 2 manner to act with the markets and 2 manner to act with the products.\n",
    "\n",
    "\n",
    "## market \n",
    "respect to hierarchical relation between the markets we could :\n",
    "- take each market as an independent unit without considering its relation\n",
    "- or we could get the center office which is the root in the tree relation as unit and sum up all metrics of it's branch\n",
    "\n",
    "we can get root tag of each brand by this SQL command in postgres\n"
   ],
   "metadata": {
    "collapsed": false
   },
   "id": "efa7f740a65d4502"
  },
  {
   "cell_type": "markdown",
   "source": [
    "\n",
    "WITH RECURSIVE parents( tag, parent_tag, root_tag ) \n",
    "AS (\n",
    "  -- get root nodes\n",
    "  SELECT tag, parent_tag, tag AS root_tag\n",
    "  FROM public.dim_mkt\n",
    "  WHERE parent_tag IS NULL\n",
    "\n",
    "  UNION ALL\n",
    "\n",
    "  -- get children  \n",
    "  SELECT t.tag, t.parent_tag, p.root_tag\n",
    "  FROM parents p\n",
    "  JOIN public.dim_mkt t\n",
    "  ON t.parent_tag = p.tag\n",
    ")\n",
    "SELECT tag , root_tag from parents\n",
    "\n",
    "![alt text](root_mkt.jpg \"market relation\")\n"
   ],
   "metadata": {
    "collapsed": false
   },
   "id": "63cb0757d2944c1a"
  },
  {
   "cell_type": "markdown",
   "source": [
    "## product \n",
    "respect to hierarchical relation between the products we could :\n",
    "- take each product as an independent unit without considering its relation\n",
    "- or we could get the base product which is the root in the tree relation as unit and sum up all metrics of it's branch\n",
    "\n",
    "we can get root tag of each brand by this SQL command in postgres"
   ],
   "metadata": {
    "collapsed": false
   },
   "id": "51103e373d6d8838"
  },
  {
   "cell_type": "markdown",
   "source": [
    "WITH RECURSIVE parents( tag, parent_tag, root_tag ) \n",
    "AS (\n",
    "  -- get root nodes\n",
    "  SELECT tag, parent_tag, tag AS root_tag\n",
    "  FROM public.dim_prod\n",
    "  WHERE parent_tag IS NULL\n",
    "\n",
    "  UNION ALL\n",
    "\n",
    "  -- get children  \n",
    "  SELECT t.tag, t.parent_tag, p.root_tag\n",
    "  FROM parents p\n",
    "  JOIN public.dim_prod t\n",
    "  ON t.parent_tag = p.tag\n",
    ")\n",
    "SELECT tag , root_tag from parents\n",
    "\n",
    "![alt text](root_prod.jpg \"product relation\")\n"
   ],
   "metadata": {
    "collapsed": false
   },
   "id": "afb8ea594ac3c6cb"
  }
 ],
 "metadata": {
  "kernelspec": {
   "display_name": "Python 3",
   "language": "python",
   "name": "python3"
  },
  "language_info": {
   "codemirror_mode": {
    "name": "ipython",
    "version": 2
   },
   "file_extension": ".py",
   "mimetype": "text/x-python",
   "name": "python",
   "nbconvert_exporter": "python",
   "pygments_lexer": "ipython2",
   "version": "2.7.6"
  }
 },
 "nbformat": 4,
 "nbformat_minor": 5
}
